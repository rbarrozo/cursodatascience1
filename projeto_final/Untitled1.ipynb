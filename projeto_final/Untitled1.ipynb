{
 "cells": [
  {
   "cell_type": "code",
   "execution_count": 1,
   "metadata": {},
   "outputs": [
    {
     "data": {
      "text/plain": [
       "Text(0,0.5,u'Average Age')"
      ]
     },
     "execution_count": 1,
     "metadata": {},
     "output_type": "execute_result"
    }
   ],
   "source": [
    "import numpy as np  # For generating random data.\n",
    "import pandas as pd\n",
    "\n",
    "# Creating data.\n",
    "np.random.seed(0)\n",
    "prng = pd.period_range('1/1/2011', '1/1/2012', freq='M')\n",
    "var = pd.DataFrame(np.random.randn(len(prng)), index=prng, columns=['total'])\n",
    "shares = pd.DataFrame(np.random.randn(len(prng)), index=prng, columns=['average'])\n",
    "\n",
    "# Plotting.\n",
    "ax = (\n",
    "    pd.concat([var, shares], axis=1)\n",
    "    .rename(columns={\n",
    "        'total': 'Variance of Low Wages',\n",
    "        'average': 'Average Age'\n",
    "    })\n",
    "    .plot(\n",
    "        title='Wage Variance and Mean Age',\n",
    "        secondary_y='Average Age')\n",
    ")\n",
    "ax.set_ylabel('Variance of Low Wages')\n",
    "ax.right_ax.set_ylabel('Average Age', rotation=-90)"
   ]
  },
  {
   "cell_type": "code",
   "execution_count": 2,
   "metadata": {},
   "outputs": [
    {
     "data": {
      "text/plain": [
       "[]"
      ]
     },
     "execution_count": 2,
     "metadata": {},
     "output_type": "execute_result"
    }
   ],
   "source": [
    "ax.plot()"
   ]
  },
  {
   "cell_type": "code",
   "execution_count": null,
   "metadata": {
    "collapsed": true
   },
   "outputs": [],
   "source": []
  }
 ],
 "metadata": {
  "kernelspec": {
   "display_name": "Python 2",
   "language": "python",
   "name": "python2"
  },
  "language_info": {
   "codemirror_mode": {
    "name": "ipython",
    "version": 2
   },
   "file_extension": ".py",
   "mimetype": "text/x-python",
   "name": "python",
   "nbconvert_exporter": "python",
   "pygments_lexer": "ipython2",
   "version": "2.7.14"
  }
 },
 "nbformat": 4,
 "nbformat_minor": 2
}
