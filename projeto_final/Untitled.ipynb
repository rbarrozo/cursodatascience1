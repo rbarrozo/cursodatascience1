{
 "cells": [
  {
   "cell_type": "code",
   "execution_count": 227,
   "metadata": {
    "collapsed": true
   },
   "outputs": [],
   "source": [
    "%matplotlib inline\n",
    "import csv\n",
    "from datetime import datetime\n",
    "import numpy as np\n",
    "import pandas as pd\n",
    "import matplotlib.pyplot as plt\n",
    "from babs_datacheck import question_3\n",
    "from babs_visualizations import usage_stats, usage_plot\n",
    "from IPython.display import display"
   ]
  },
  {
   "cell_type": "code",
   "execution_count": 548,
   "metadata": {
    "collapsed": true
   },
   "outputs": [],
   "source": [
    "csv_f  = pd.read_csv('201309_trip_summary.csv')"
   ]
  },
  {
   "cell_type": "code",
   "execution_count": 554,
   "metadata": {},
   "outputs": [
    {
     "name": "stdout",
     "output_type": "stream",
     "text": [
      "0         1.050000\n",
      "1         1.166667\n",
      "2         1.183333\n",
      "3         1.283333\n",
      "4         1.383333\n",
      "5         1.716667\n",
      "6         1.816667\n",
      "7         1.850000\n",
      "8         1.883333\n",
      "9         1.900000\n",
      "10        2.083333\n",
      "11        2.100000\n",
      "12        2.150000\n",
      "13        2.166667\n",
      "14        2.233333\n",
      "15        2.300000\n",
      "16        2.350000\n",
      "17        2.366667\n",
      "18        2.366667\n",
      "19        2.400000\n",
      "20        2.433333\n",
      "21        2.466667\n",
      "22        2.516667\n",
      "23        2.666667\n",
      "24        2.683333\n",
      "25        2.716667\n",
      "26        2.750000\n",
      "27        2.766667\n",
      "28        2.800000\n",
      "29        2.816667\n",
      "           ...    \n",
      "27312     6.600000\n",
      "27313     4.433333\n",
      "27314     5.683333\n",
      "27315    10.766667\n",
      "27316    13.250000\n",
      "27317    11.150000\n",
      "27318    14.100000\n",
      "27319    12.566667\n",
      "27320     6.883333\n",
      "27321    10.433333\n",
      "27322    10.683333\n",
      "27323     6.383333\n",
      "27324     8.933333\n",
      "27325     3.200000\n",
      "27326     7.516667\n",
      "27327     4.566667\n",
      "27328     3.800000\n",
      "27329     7.666667\n",
      "27330     3.216667\n",
      "27331     6.516667\n",
      "27332     5.916667\n",
      "27333    12.866667\n",
      "27334    17.650000\n",
      "27335    11.250000\n",
      "27336    10.850000\n",
      "27337    11.283333\n",
      "27338     5.233333\n",
      "27342    11.116667\n",
      "27343     3.933333\n",
      "27344     6.616667\n",
      "Name: duration, Length: 25603, dtype: float64\n"
     ]
    },
    {
     "data": {
      "image/png": "[encoded data removed]",
      "text/plain": [
       "<matplotlib.figure.Figure at 0x14367908>"
      ]
     },
     "metadata": {},
     "output_type": "display_data"
    }
   ],
   "source": [
    "df_filtered = csv_f.query('duration < 60')\n",
    "#df_filtered = csv_f[csv_f['duration'] < 60]\n",
    "\n",
    "df_filtered['duration'].plot()\n",
    "print df_filtered['duration']\n",
    "#print x.applymap(convert_duration).groupby(['duration'])['duration'].count()\n",
    "\n",
    "#print grouped"
   ]
  },
  {
   "cell_type": "code",
   "execution_count": null,
   "metadata": {
    "collapsed": true
   },
   "outputs": [],
   "source": []
  }
 ],
 "metadata": {
  "kernelspec": {
   "display_name": "Python 2",
   "language": "python",
   "name": "python2"
  },
  "language_info": {
   "codemirror_mode": {
    "name": "ipython",
    "version": 2
   },
   "file_extension": ".py",
   "mimetype": "text/x-python",
   "name": "python",
   "nbconvert_exporter": "python",
   "pygments_lexer": "ipython2",
   "version": "2.7.14"
  }
 },
 "nbformat": 4,
 "nbformat_minor": 2
}
